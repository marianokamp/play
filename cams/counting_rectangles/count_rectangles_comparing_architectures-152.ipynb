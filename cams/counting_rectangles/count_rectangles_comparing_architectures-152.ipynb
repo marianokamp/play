{
 "cells": [
  {
   "cell_type": "code",
   "execution_count": 1,
   "metadata": {},
   "outputs": [
    {
     "name": "stdout",
     "output_type": "stream",
     "text": [
      "CPU times: user 32 ms, sys: 6.3 ms, total: 38.3 ms\n",
      "Wall time: 1.78 s\n"
     ]
    }
   ],
   "source": [
    "%%time\n",
    "!pip install -q --upgrade pip fastai"
   ]
  },
  {
   "cell_type": "code",
   "execution_count": 2,
   "metadata": {},
   "outputs": [],
   "source": [
    "%reload_ext autoreload\n",
    "%autoreload 2\n",
    "%matplotlib inline"
   ]
  },
  {
   "cell_type": "code",
   "execution_count": 3,
   "metadata": {},
   "outputs": [],
   "source": [
    "from fastai.vision import *\n",
    "from fastai.callbacks import CSVLogger"
   ]
  },
  {
   "cell_type": "code",
   "execution_count": 4,
   "metadata": {},
   "outputs": [
    {
     "data": {
      "text/plain": [
       "15680000"
      ]
     },
     "execution_count": 4,
     "metadata": {},
     "output_type": "execute_result"
    }
   ],
   "source": [
    "NUMBER_OF_SAMPLES = 20_000\n",
    "SIZE = 224 // 8 \n",
    "MAGNIFICATION = 8\n",
    "INSETS = 2\n",
    "THRESHOLD = 0.8\n",
    "\n",
    "NUMBER_OF_SAMPLES * SIZE * SIZE"
   ]
  },
  {
   "cell_type": "markdown",
   "metadata": {},
   "source": [
    "# Creating test data"
   ]
  },
  {
   "cell_type": "code",
   "execution_count": 5,
   "metadata": {},
   "outputs": [],
   "source": [
    "from PIL import ImageDraw as PILImageDraw\n",
    "from PIL import Image as PILImage\n",
    "\n",
    "def create_data():\n",
    "    return np.random.standard_normal(\n",
    "        size=(NUMBER_OF_SAMPLES, SIZE, SIZE)) > THRESHOLD\n",
    "\n",
    "def get_label(data):\n",
    "    return float(np.sum(data, axis=(0,1)))\n",
    "\n",
    "def render_image(data):\n",
    "    img = PILImage.new('RGB', (SIZE*MAGNIFICATION, SIZE*MAGNIFICATION), color = (255,255, 255))\n",
    "    draw = PILImageDraw.Draw(img)\n",
    "\n",
    "    for (row_index, row) in enumerate(data):\n",
    "        for (col_index, value) in enumerate(row):\n",
    "            x0, y0 = row_index*MAGNIFICATION+INSETS, col_index*MAGNIFICATION+INSETS\n",
    "            x1, y1 = ((row_index+1)*MAGNIFICATION-INSETS)+1, \\\n",
    "                     ((col_index+1)*MAGNIFICATION-INSETS)+1\n",
    "\n",
    "            if value: \n",
    "                draw.rectangle([(x0, y0), (x1, y1)], fill=(255, 153, 0))  \n",
    "                \n",
    "    return Image(pil2tensor(img, np.float32).div(255))\n",
    "\n",
    "class MyImageItemList(ImageList):\n",
    "    def __init__(self, path, items, **kwargs):\n",
    "        super().__init__(items, **kwargs)\n",
    "        self.path = path\n",
    "    \n",
    "    def get(self, i):\n",
    "        return render_image(self.items[i])"
   ]
  },
  {
   "cell_type": "code",
   "execution_count": 6,
   "metadata": {},
   "outputs": [
    {
     "name": "stdout",
     "output_type": "stream",
     "text": [
      "CPU times: user 844 ms, sys: 110 ms, total: 954 ms\n",
      "Wall time: 957 ms\n"
     ]
    }
   ],
   "source": [
    "%%time\n",
    "np.random.seed(42)\n",
    "dt = create_data()\n",
    "iil = MyImageItemList(Path('.'), items=dt)\n",
    "ll = iil.split_by_rand_pct(0.2)\n",
    "ll.label_from_func(get_label)"
   ]
  },
  {
   "cell_type": "markdown",
   "metadata": {},
   "source": [
    "# Create CNN"
   ]
  },
  {
   "cell_type": "code",
   "execution_count": null,
   "metadata": {},
   "outputs": [
    {
     "name": "stdout",
     "output_type": "stream",
     "text": [
      "Starting resnet152.\n"
     ]
    },
    {
     "data": {
      "text/html": [
       "\n",
       "    <div>\n",
       "        <style>\n",
       "            /* Turns off some styling */\n",
       "            progress {\n",
       "                /* gets rid of default border in Firefox and Opera. */\n",
       "                border: none;\n",
       "                /* Needs to be in here for Safari polyfill so background images work as expected. */\n",
       "                background-size: auto;\n",
       "            }\n",
       "            .progress-bar-interrupted, .progress-bar-interrupted::-webkit-progress-bar {\n",
       "                background: #F44336;\n",
       "            }\n",
       "        </style>\n",
       "      <progress value='16' class='' max='100', style='width:300px; height:20px; vertical-align: middle;'></progress>\n",
       "      16.00% [16/100 25:08<2:12:01]\n",
       "    </div>\n",
       "    \n",
       "<table border=\"1\" class=\"dataframe\">\n",
       "  <thead>\n",
       "    <tr style=\"text-align: left;\">\n",
       "      <th>epoch</th>\n",
       "      <th>train_loss</th>\n",
       "      <th>valid_loss</th>\n",
       "      <th>time</th>\n",
       "    </tr>\n",
       "  </thead>\n",
       "  <tbody>\n",
       "    <tr>\n",
       "      <td>0</td>\n",
       "      <td>10048.132812</td>\n",
       "      <td>4074.166748</td>\n",
       "      <td>01:34</td>\n",
       "    </tr>\n",
       "    <tr>\n",
       "      <td>1</td>\n",
       "      <td>151.208176</td>\n",
       "      <td>16.570572</td>\n",
       "      <td>01:34</td>\n",
       "    </tr>\n",
       "    <tr>\n",
       "      <td>2</td>\n",
       "      <td>9.422197</td>\n",
       "      <td>7.516503</td>\n",
       "      <td>01:34</td>\n",
       "    </tr>\n",
       "    <tr>\n",
       "      <td>3</td>\n",
       "      <td>7.023949</td>\n",
       "      <td>4.958220</td>\n",
       "      <td>01:34</td>\n",
       "    </tr>\n",
       "    <tr>\n",
       "      <td>4</td>\n",
       "      <td>6.345302</td>\n",
       "      <td>4.171494</td>\n",
       "      <td>01:34</td>\n",
       "    </tr>\n",
       "    <tr>\n",
       "      <td>5</td>\n",
       "      <td>9.134933</td>\n",
       "      <td>8.526339</td>\n",
       "      <td>01:34</td>\n",
       "    </tr>\n",
       "    <tr>\n",
       "      <td>6</td>\n",
       "      <td>6.621506</td>\n",
       "      <td>5.854495</td>\n",
       "      <td>01:34</td>\n",
       "    </tr>\n",
       "    <tr>\n",
       "      <td>7</td>\n",
       "      <td>7.115788</td>\n",
       "      <td>6.556200</td>\n",
       "      <td>01:34</td>\n",
       "    </tr>\n",
       "    <tr>\n",
       "      <td>8</td>\n",
       "      <td>6.376125</td>\n",
       "      <td>4.018526</td>\n",
       "      <td>01:34</td>\n",
       "    </tr>\n",
       "    <tr>\n",
       "      <td>9</td>\n",
       "      <td>7.466993</td>\n",
       "      <td>3.269773</td>\n",
       "      <td>01:34</td>\n",
       "    </tr>\n",
       "    <tr>\n",
       "      <td>10</td>\n",
       "      <td>8.255520</td>\n",
       "      <td>5.020361</td>\n",
       "      <td>01:34</td>\n",
       "    </tr>\n",
       "    <tr>\n",
       "      <td>11</td>\n",
       "      <td>6.899898</td>\n",
       "      <td>12.482038</td>\n",
       "      <td>01:34</td>\n",
       "    </tr>\n",
       "    <tr>\n",
       "      <td>12</td>\n",
       "      <td>7.324053</td>\n",
       "      <td>2.502986</td>\n",
       "      <td>01:34</td>\n",
       "    </tr>\n",
       "    <tr>\n",
       "      <td>13</td>\n",
       "      <td>7.656272</td>\n",
       "      <td>6.628376</td>\n",
       "      <td>01:34</td>\n",
       "    </tr>\n",
       "    <tr>\n",
       "      <td>14</td>\n",
       "      <td>9.281704</td>\n",
       "      <td>3.116618</td>\n",
       "      <td>01:33</td>\n",
       "    </tr>\n",
       "    <tr>\n",
       "      <td>15</td>\n",
       "      <td>8.797837</td>\n",
       "      <td>10.530210</td>\n",
       "      <td>01:34</td>\n",
       "    </tr>\n",
       "  </tbody>\n",
       "</table><p>\n",
       "\n",
       "    <div>\n",
       "        <style>\n",
       "            /* Turns off some styling */\n",
       "            progress {\n",
       "                /* gets rid of default border in Firefox and Opera. */\n",
       "                border: none;\n",
       "                /* Needs to be in here for Safari polyfill so background images work as expected. */\n",
       "                background-size: auto;\n",
       "            }\n",
       "            .progress-bar-interrupted, .progress-bar-interrupted::-webkit-progress-bar {\n",
       "                background: #F44336;\n",
       "            }\n",
       "        </style>\n",
       "      <progress value='94' class='' max='228', style='width:300px; height:20px; vertical-align: middle;'></progress>\n",
       "      41.23% [94/228 00:35<00:50 9.7680]\n",
       "    </div>\n",
       "    "
      ],
      "text/plain": [
       "<IPython.core.display.HTML object>"
      ]
     },
     "metadata": {},
     "output_type": "display_data"
    }
   ],
   "source": [
    "runs = []\n",
    "\n",
    "for (epochs, architecture, bs) in [(100, models.resnet152, 70)]:\n",
    "    runs += [(epochs, 4e-2, 384, bs, architecture,  str(architecture).split()[1])] \n",
    "\n",
    "losses = []\n",
    "\n",
    "for (epochs, lr, size, bs, architecture,  label) in runs:\n",
    "    print(f'Starting {label}.')\n",
    "    data_bunch = ll.databunch(bs=bs)\n",
    "    data_bunch = data_bunch.normalize(imagenet_stats)\n",
    "    model = cnn_learner(data_bunch, architecture, ps=0, true_wd = False, bn_wd = False, callback_fns=[CSVLogger])\n",
    "    model.fit_one_cycle(epochs, slice(lr), wd=0)\n",
    "    model.recorder.plot_losses()\n",
    "    plt.yscale('log')\n",
    "    plt.title(label)\n",
    "\n",
    "    model.recorder.plot_losses()\n",
    "    plt.yscale('log')\n",
    "    plt.ylim(0,10)\n",
    "    plt.title(label)\n",
    "\n",
    "    model.recorder.plot_losses()\n",
    "    plt.ylim(0,3)\n",
    "    plt.title(label)\n",
    "\n",
    "    losses += [(label, model.recorder.losses, model.recorder.val_losses)]\n",
    "    model.save('x'+label)"
   ]
  },
  {
   "cell_type": "code",
   "execution_count": null,
   "metadata": {},
   "outputs": [],
   "source": [
    "labels, train_losses, val_losses = [], [], []\n",
    "for (label, train_loss, val_loss) in losses:\n",
    "    labels += [label]\n",
    "    train_losses += [train_loss[-1].item()]\n",
    "    val_losses   += [val_loss[-1].item()]\n",
    "\n",
    "results = pd.DataFrame()\n",
    "results['label'] = np.array(labels, dtype=np.str)\n",
    "\n",
    "results['train_loss'] = np.array(train_losses, dtype=np.float32)\n",
    "results['val_loss'] = np.array(val_losses, dtype=np.float32)\n",
    "results.sort_values(by='val_loss', inplace=True)\n",
    "display(results)  "
   ]
  },
  {
   "cell_type": "code",
   "execution_count": null,
   "metadata": {},
   "outputs": [],
   "source": [
    "# from fastai.callbacks import CSVLogger\n",
    "# data_bunch = ll.databunch(bs=12)\n",
    "# data_bunch = data_bunch.normalize(imagenet_stats)\n",
    "# model = cnn_learner(data_bunch, models.resnet18, ps=0, true_wd = False, bn_wd = False, callback_fns=[CSVLogger])\n",
    "# help(model)\n",
    "# help(model.csv_logger)\n",
    "# model.fit_one_cycle(1, slice(3e-2), wd=0)\n",
    "# !ls"
   ]
  },
  {
   "cell_type": "code",
   "execution_count": null,
   "metadata": {},
   "outputs": [],
   "source": [
    "def plot_results(losses, title):\n",
    "    colors = plt.cm.rainbow(np.linspace(0,1,len(runs)))\n",
    "    plt.figure(figsize=(16,8))\n",
    "    plt.ylim(0, 1000)\n",
    "    for idx, (label, train_loss, val_loss) in enumerate(losses):\n",
    "        color = colors[idx]\n",
    "        plt.plot(train_loss, color=color, linestyle=\"-.\", label=label+' train')\n",
    "        plt.plot(val_loss,   color=color, linestyle=\"-\", label=label+' val')\n",
    "    plt.legend()\n",
    "    plt.title(title)\n",
    "    plt.ylim(0,5)\n",
    "plot_results(losses, \"All\")\n"
   ]
  }
 ],
 "metadata": {
  "kernelspec": {
   "display_name": "Environment (conda_python3)",
   "language": "python",
   "name": "conda_python3"
  },
  "language_info": {
   "codemirror_mode": {
    "name": "ipython",
    "version": 3
   },
   "file_extension": ".py",
   "mimetype": "text/x-python",
   "name": "python",
   "nbconvert_exporter": "python",
   "pygments_lexer": "ipython3",
   "version": "3.6.5"
  }
 },
 "nbformat": 4,
 "nbformat_minor": 2
}
