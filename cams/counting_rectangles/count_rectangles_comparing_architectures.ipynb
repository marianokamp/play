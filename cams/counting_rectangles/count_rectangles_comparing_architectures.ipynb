{
 "cells": [
  {
   "cell_type": "code",
   "execution_count": 1,
   "metadata": {},
   "outputs": [
    {
     "name": "stdout",
     "output_type": "stream",
     "text": [
      "CPU times: user 28.7 ms, sys: 6.55 ms, total: 35.2 ms\n",
      "Wall time: 1.75 s\n"
     ]
    }
   ],
   "source": [
    "%%time\n",
    "!pip install -q --upgrade pip fastai"
   ]
  },
  {
   "cell_type": "code",
   "execution_count": 2,
   "metadata": {},
   "outputs": [],
   "source": [
    "%reload_ext autoreload\n",
    "%autoreload 2\n",
    "%matplotlib inline"
   ]
  },
  {
   "cell_type": "code",
   "execution_count": 3,
   "metadata": {},
   "outputs": [],
   "source": [
    "from fastai.vision import *"
   ]
  },
  {
   "cell_type": "code",
   "execution_count": 4,
   "metadata": {},
   "outputs": [
    {
     "data": {
      "text/plain": [
       "39200000"
      ]
     },
     "execution_count": 4,
     "metadata": {},
     "output_type": "execute_result"
    }
   ],
   "source": [
    "NUMBER_OF_SAMPLES = 50_000\n",
    "SIZE = 224 // 8 \n",
    "MAGNIFICATION = 8\n",
    "INSETS = 2\n",
    "THRESHOLD = 0.8\n",
    "\n",
    "NUMBER_OF_SAMPLES * SIZE * SIZE"
   ]
  },
  {
   "cell_type": "markdown",
   "metadata": {},
   "source": [
    "# Creating test data"
   ]
  },
  {
   "cell_type": "code",
   "execution_count": 5,
   "metadata": {},
   "outputs": [],
   "source": [
    "from PIL import ImageDraw as PILImageDraw\n",
    "from PIL import Image as PILImage\n",
    "\n",
    "def create_data():\n",
    "    return np.random.standard_normal(\n",
    "        size=(NUMBER_OF_SAMPLES, SIZE, SIZE)) > THRESHOLD\n",
    "\n",
    "def get_label(data):\n",
    "    return float(np.sum(data, axis=(0,1)))\n",
    "\n",
    "def render_image(data):\n",
    "    img = PILImage.new('RGB', (SIZE*MAGNIFICATION, SIZE*MAGNIFICATION), color = (255,255, 255))\n",
    "    draw = PILImageDraw.Draw(img)\n",
    "\n",
    "    for (row_index, row) in enumerate(data):\n",
    "        for (col_index, value) in enumerate(row):\n",
    "            x0, y0 = row_index*MAGNIFICATION+INSETS, col_index*MAGNIFICATION+INSETS\n",
    "            x1, y1 = ((row_index+1)*MAGNIFICATION-INSETS)+1, \\\n",
    "                     ((col_index+1)*MAGNIFICATION-INSETS)+1\n",
    "\n",
    "            if value: \n",
    "                draw.rectangle([(x0, y0), (x1, y1)], fill=(255, 153, 0))  \n",
    "                \n",
    "    return Image(pil2tensor(img, np.float32).div(255))\n",
    "\n",
    "class MyImageItemList(ImageList):\n",
    "    def __init__(self, path, items, **kwargs):\n",
    "        super().__init__(items, **kwargs)\n",
    "        self.path = path\n",
    "    \n",
    "    def get(self, i):\n",
    "        return render_image(self.items[i])"
   ]
  },
  {
   "cell_type": "code",
   "execution_count": 6,
   "metadata": {},
   "outputs": [
    {
     "name": "stdout",
     "output_type": "stream",
     "text": [
      "CPU times: user 2.2 s, sys: 204 ms, total: 2.4 s\n",
      "Wall time: 2.4 s\n"
     ]
    }
   ],
   "source": [
    "%%time\n",
    "dt = create_data()\n",
    "iil = MyImageItemList(Path('.'), items=dt)\n",
    "ll = iil.split_by_rand_pct(0.2)\n",
    "ll.label_from_func(get_label)\n",
    "#data_bunch = ll.databunch(bs=20)\n",
    "#data_bunch = data_bunch.normalize(imagenet_stats)"
   ]
  },
  {
   "cell_type": "code",
   "execution_count": 7,
   "metadata": {},
   "outputs": [],
   "source": [
    "#data_bunch.label_list"
   ]
  },
  {
   "cell_type": "code",
   "execution_count": 8,
   "metadata": {},
   "outputs": [],
   "source": [
    "#data_bunch.show_batch(2, figsize=(7, 7))"
   ]
  },
  {
   "cell_type": "markdown",
   "metadata": {},
   "source": [
    "# Create CNN"
   ]
  },
  {
   "cell_type": "code",
   "execution_count": null,
   "metadata": {},
   "outputs": [
    {
     "name": "stdout",
     "output_type": "stream",
     "text": [
      "Starting resnet101.\n",
      "100\n"
     ]
    },
    {
     "data": {
      "text/html": [
       "\n",
       "    <div>\n",
       "        <style>\n",
       "            /* Turns off some styling */\n",
       "            progress {\n",
       "                /* gets rid of default border in Firefox and Opera. */\n",
       "                border: none;\n",
       "                /* Needs to be in here for Safari polyfill so background images work as expected. */\n",
       "                background-size: auto;\n",
       "            }\n",
       "            .progress-bar-interrupted, .progress-bar-interrupted::-webkit-progress-bar {\n",
       "                background: #F44336;\n",
       "            }\n",
       "        </style>\n",
       "      <progress value='0' class='' max='1', style='width:300px; height:20px; vertical-align: middle;'></progress>\n",
       "      0.00% [0/1 00:00<00:00]\n",
       "    </div>\n",
       "    \n",
       "<table border=\"1\" class=\"dataframe\">\n",
       "  <thead>\n",
       "    <tr style=\"text-align: left;\">\n",
       "      <th>epoch</th>\n",
       "      <th>train_loss</th>\n",
       "      <th>valid_loss</th>\n",
       "      <th>time</th>\n",
       "    </tr>\n",
       "  </thead>\n",
       "  <tbody>\n",
       "  </tbody>\n",
       "</table><p>\n",
       "\n",
       "    <div>\n",
       "        <style>\n",
       "            /* Turns off some styling */\n",
       "            progress {\n",
       "                /* gets rid of default border in Firefox and Opera. */\n",
       "                border: none;\n",
       "                /* Needs to be in here for Safari polyfill so background images work as expected. */\n",
       "                background-size: auto;\n",
       "            }\n",
       "            .progress-bar-interrupted, .progress-bar-interrupted::-webkit-progress-bar {\n",
       "                background: #F44336;\n",
       "            }\n",
       "        </style>\n",
       "      <progress value='137' class='' max='400', style='width:300px; height:20px; vertical-align: middle;'></progress>\n",
       "      34.25% [137/400 00:52<01:41 2865.7390]\n",
       "    </div>\n",
       "    "
      ],
      "text/plain": [
       "<IPython.core.display.HTML object>"
      ]
     },
     "metadata": {},
     "output_type": "display_data"
    }
   ],
   "source": [
    "runs = []\n",
    "\n",
    "for (architecture, bs) in [(models.resnet101, 100), (models.resnet50, 150), (models.resnet34, 260), (models.resnet18, 380)]:\n",
    "    runs += [(1, 5e-2, 384, bs, architecture,  str(architecture).split()[1])] \n",
    "\n",
    "losses = []\n",
    "#runs = [] # Skip for now\n",
    "for (epochs, lr, size, bs, architecture,  label) in runs:\n",
    "    print(f'Starting {label}.')\n",
    "    #data_bunch = ImageDataBunch.from_lists(path='.',fnames=fn_list, labels=label_list, \n",
    "    #                                       bs=bs, size=size, ds_tfms=tfms).normalize(imagenet_stats)\n",
    "    data_bunch = ll.databunch(bs=bs)\n",
    "    print(bs)\n",
    "    data_bunch = data_bunch.normalize(imagenet_stats)\n",
    "    model = cnn_learner(data_bunch, architecture)\n",
    "    model.fit_one_cycle(epochs, slice(lr))\n",
    "    model.recorder.plot_losses()\n",
    "    plt.yscale('log')\n",
    "    plt.title(table)\n",
    "    losses += [(label, model.recorder.losses, model.recorder.val_losses)]"
   ]
  },
  {
   "cell_type": "code",
   "execution_count": null,
   "metadata": {},
   "outputs": [],
   "source": [
    "def plot_results(losses, title):\n",
    "    colors = plt.cm.rainbow(np.linspace(0,1,len(runs)))\n",
    "    plt.figure(figsize=(16,8))\n",
    "    plt.ylim(0, 3000)\n",
    "    for idx, (label, train_loss, val_loss) in enumerate(losses):\n",
    "        color = colors[idx]\n",
    "        plt.plot(train_loss, color=color, linestyle=\"-.\", label=label+' train')\n",
    "        plt.plot(val_loss,   color=color, linestyle=\"-\", label=label+' val')\n",
    "    plt.legend()\n",
    "    plt.title(title)\n",
    "\n",
    "\n",
    "plot_results(filter(lambda x: 'resnet18' in x[0], losses), 'Different Sizes')\n",
    "plt.xlim(0,250)\n",
    "plot_results(list(filter(lambda x: 'x48' in x[0], losses))[:3], 'Different Sizes')\n",
    "plt.xlim(0,250)\n",
    "plt.xlim(0,500)\n",
    "plot_results(filter(lambda x: '256' in x[0], losses), 'Resnet vs Densnet')\n",
    "# Apparently smaller is better?\n",
    "plt.yscale('log')\n",
    "plot_results(losses, \"All\")\n",
    "plt.yscale('log')\n",
    "#for (label, train_loss, valid_loss) in losses:\n",
    "#    plot_results([(label, train_loss, valid_loss)], label)\n",
    "plt.xlim(0,250)\n",
    "plt.yscale('log')\n",
    "\n",
    "labels, train_losses, val_losses = [], [], []\n",
    "for (label, train_loss, val_loss) in losses:\n",
    "    labels += [label]\n",
    "    train_losses += [train_loss[-1].item()]\n",
    "    val_losses   += [val_loss[-1].item()]\n",
    "\n",
    "results = pd.DataFrame()\n",
    "results['label'] = np.array(labels, dtype=np.str)\n",
    "\n",
    "results['train_loss'] = np.array(train_losses, dtype=np.float32)\n",
    "results['val_loss'] = np.array(val_losses, dtype=np.float32)\n",
    "results.sort_values(by='val_loss', inplace=True)\n",
    "display(results)  "
   ]
  }
 ],
 "metadata": {
  "kernelspec": {
   "display_name": "Environment (conda_python3)",
   "language": "python",
   "name": "conda_python3"
  },
  "language_info": {
   "codemirror_mode": {
    "name": "ipython",
    "version": 3
   },
   "file_extension": ".py",
   "mimetype": "text/x-python",
   "name": "python",
   "nbconvert_exporter": "python",
   "pygments_lexer": "ipython3",
   "version": "3.6.5"
  }
 },
 "nbformat": 4,
 "nbformat_minor": 2
}
