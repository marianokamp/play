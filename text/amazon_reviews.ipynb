{
 "cells": [
  {
   "cell_type": "markdown",
   "metadata": {},
   "source": [
    "Data taken from: http://jmcauley.ucsd.edu/data/amazon/"
   ]
  },
  {
   "cell_type": "code",
   "execution_count": 1,
   "metadata": {},
   "outputs": [],
   "source": [
    "%reload_ext autoreload\n",
    "%autoreload 2\n",
    "%matplotlib inline"
   ]
  },
  {
   "cell_type": "code",
   "execution_count": 2,
   "metadata": {},
   "outputs": [],
   "source": [
    "data_sources = [\n",
    "  ('Baby', 'http://snap.stanford.edu/data/amazon/productGraph/categoryFiles/reviews_Baby_5.json.gz'), \n",
    "  ('Muscial_Instruments', 'http://snap.stanford.edu/data/amazon/productGraph/categoryFiles/reviews_Musical_Instruments_5.json.gz'), \n",
    "  ('Electronics', 'http://snap.stanford.edu/data/amazon/productGraph/categoryFiles/reviews_Electronics_5.json.gz'),\n",
    "  ('Movies_and_TV', 'http://snap.stanford.edu/data/amazon/productGraph/categoryFiles/reviews_Movies_and_TV_5.json.gz')\n",
    "]"
   ]
  },
  {
   "cell_type": "code",
   "execution_count": 3,
   "metadata": {},
   "outputs": [
    {
     "name": "stdout",
     "output_type": "stream",
     "text": [
      "CPU times: user 2 µs, sys: 1e+03 ns, total: 3 µs\n",
      "Wall time: 4.53 µs\n",
      "Processing http://snap.stanford.edu/data/amazon/productGraph/categoryFiles/reviews_Baby_5.json.gz:\n",
      "  Already exists, unzipped.\n",
      "Processing http://snap.stanford.edu/data/amazon/productGraph/categoryFiles/reviews_Musical_Instruments_5.json.gz:\n",
      "  Already exists, unzipped.\n",
      "Processing http://snap.stanford.edu/data/amazon/productGraph/categoryFiles/reviews_Electronics_5.json.gz:\n",
      "  Already exists, unzipped.\n",
      "Processing http://snap.stanford.edu/data/amazon/productGraph/categoryFiles/reviews_Movies_and_TV_5.json.gz:\n",
      "  Already exists, unzipped.\n"
     ]
    }
   ],
   "source": [
    "%time\n",
    "import urllib.request\n",
    "import os\n",
    "\n",
    "output_dir = 'data/'\n",
    "os.makedirs(os.path.dirname(output_dir), exist_ok=True)\n",
    "\n",
    "for (_, source_data_location) in data_sources:\n",
    "    print(f'Processing {source_data_location}:')\n",
    "    file = source_data_location.split('/')[-1]\n",
    "    target_path = output_dir+file\n",
    "    if os.path.exists(target_path):\n",
    "        print('  Already exists.')\n",
    "        continue\n",
    "\n",
    "    # Unzipped already?\n",
    "    if os.path.exists(target_path[:-3]):\n",
    "        print('  Already exists, unzipped.')\n",
    "        continue\n",
    "\n",
    "    print('Downloading.')\n",
    "    with urllib.request.urlopen(source_data_location) as response:\n",
    "        buffer = response.read()\n",
    "        print('Downloaded.')\n",
    "    with open(target_path, 'wb') as f:  \n",
    "        f.write(buffer)\n",
    "        print('Written.')\n"
   ]
  },
  {
   "cell_type": "code",
   "execution_count": 4,
   "metadata": {},
   "outputs": [
    {
     "name": "stdout",
     "output_type": "stream",
     "text": [
      "total 3.9G\n",
      "-rw-rw-r-- 1 ec2-user ec2-user 116M Mar  2 12:15 reviews_Baby_5.json\n",
      "-rw-rw-r-- 1 ec2-user ec2-user 7.2M Mar  2 12:15 reviews_Musical_Instruments_5.json\n",
      "-rw-rw-r-- 1 ec2-user ec2-user 1.4G Mar  2 12:16 reviews_Electronics_5.json\n",
      "-rw-rw-r-- 1 ec2-user ec2-user 1.9G Mar  2 12:19 reviews_Movies_and_TV_5.json\n",
      "-rw-rw-r-- 1 ec2-user ec2-user 338M Mar  2 12:54 train.csv\n",
      "-rw-rw-r-- 1 ec2-user ec2-user 130M Mar  2 12:54 validation.csv\n"
     ]
    }
   ],
   "source": [
    "!ls -ltrh data"
   ]
  },
  {
   "cell_type": "code",
   "execution_count": 5,
   "metadata": {},
   "outputs": [
    {
     "name": "stdout",
     "output_type": "stream",
     "text": [
      "CPU times: user 1 µs, sys: 1 µs, total: 2 µs\n",
      "Wall time: 4.77 µs\n",
      "gzip: *.gz: No such file or directory\n",
      "total 3.9G\n",
      "-rw-rw-r-- 1 ec2-user ec2-user 116M Mar  2 12:15 reviews_Baby_5.json\n",
      "-rw-rw-r-- 1 ec2-user ec2-user 7.2M Mar  2 12:15 reviews_Musical_Instruments_5.json\n",
      "-rw-rw-r-- 1 ec2-user ec2-user 1.4G Mar  2 12:16 reviews_Electronics_5.json\n",
      "-rw-rw-r-- 1 ec2-user ec2-user 1.9G Mar  2 12:19 reviews_Movies_and_TV_5.json\n",
      "-rw-rw-r-- 1 ec2-user ec2-user 338M Mar  2 12:54 train.csv\n",
      "-rw-rw-r-- 1 ec2-user ec2-user 130M Mar  2 12:54 validation.csv\n"
     ]
    }
   ],
   "source": [
    "%time\n",
    "!cd data; gunzip -f *.gz; ls -ltrh"
   ]
  },
  {
   "cell_type": "code",
   "execution_count": 6,
   "metadata": {},
   "outputs": [
    {
     "name": "stdout",
     "output_type": "stream",
     "text": [
      "{\n",
      "    \"reviewerID\": \"AO94DHGC771SJ\",\n",
      "    \"asin\": \"0528881469\",\n",
      "    \"reviewerName\": \"amazdnu\",\n",
      "    \"helpful\": [\n",
      "        0,\n",
      "        0\n",
      "    ],\n",
      "    \"reviewText\": \"We got this GPS for my husband who is an (OTR) over the road trucker.  Very Impressed with the shipping time, it arrived a few days earlier than expected...  within a week of use however it started freezing up... could of just been a glitch in that unit.  Worked great when it worked!  Will work great for the normal person as well but does have the \\\"trucker\\\" option. (the big truck routes - tells you when a scale is coming up ect...)  Love the bigger screen, the ease of use, the ease of putting addresses into memory.  Nothing really bad to say about the unit with the exception of it freezing which is probably one in a million and that's just my luck.  I contacted the seller and within minutes of my email I received a email back with instructions for an exchange! VERY impressed all the way around!\",\n",
      "    \"overall\": 5.0,\n",
      "    \"summary\": \"Gotta have GPS!\",\n",
      "    \"unixReviewTime\": 1370131200,\n",
      "    \"reviewTime\": \"06 2, 2013\"\n",
      "}\n"
     ]
    }
   ],
   "source": [
    "!head -n1 data/reviews_Electronics_5.json | python -m json.tool"
   ]
  },
  {
   "cell_type": "code",
   "execution_count": 7,
   "metadata": {},
   "outputs": [
    {
     "name": "stdout",
     "output_type": "stream",
     "text": [
      "arn:aws:iam::811243659808:role/service-role/AmazonSageMaker-ExecutionRole-20180113T174439\n",
      "mkamp-amazon-reviews\n"
     ]
    }
   ],
   "source": [
    "import sagemaker\n",
    "from sagemaker import get_execution_role\n",
    "import json\n",
    "import boto3\n",
    "\n",
    "sess = sagemaker.Session()\n",
    "\n",
    "role = get_execution_role()\n",
    "print(role) \n",
    "\n",
    "bucket = 'mkamp-amazon-reviews' \n",
    "print(bucket)\n",
    "prefix = 'data' "
   ]
  },
  {
   "cell_type": "code",
   "execution_count": 8,
   "metadata": {},
   "outputs": [
    {
     "name": "stdout",
     "output_type": "stream",
     "text": [
      "[nltk_data] Downloading package punkt to /home/ec2-user/nltk_data...\n",
      "[nltk_data]   Package punkt is already up-to-date!\n"
     ]
    },
    {
     "data": {
      "text/plain": [
       "True"
      ]
     },
     "execution_count": 8,
     "metadata": {},
     "output_type": "execute_result"
    }
   ],
   "source": [
    "from random import shuffle\n",
    "import multiprocessing\n",
    "from multiprocessing import Pool\n",
    "import csv\n",
    "import nltk\n",
    "nltk.download('punkt')"
   ]
  },
  {
   "cell_type": "code",
   "execution_count": 9,
   "metadata": {},
   "outputs": [],
   "source": [
    "import pandas as pd\n",
    "\n",
    "def transform_input_records(label, review_lines_json_file_path, n_samples=None):\n",
    "    records = pd.read_json(review_lines_json_file_path, lines=True)\n",
    "    if n_samples:\n",
    "        records = records.sample(n_samples, replace=True)\n",
    "\n",
    "    records['label'] = label\n",
    "    return records[['label', 'reviewText']]"
   ]
  },
  {
   "cell_type": "code",
   "execution_count": 10,
   "metadata": {},
   "outputs": [],
   "source": [
    "import numpy as np\n",
    "\n",
    "def preprocess_partition(partition):\n",
    "    func = lambda s: ' '.join(nltk.word_tokenize(s.lower()))\n",
    "    \n",
    "    partition.reviewText = partition.reviewText.apply(func)\n",
    "    return partition\n",
    "\n",
    "def preprocess_data(rows, n_samples=None):\n",
    "    num_cpus = multiprocessing.cpu_count()\n",
    "    print(f'cpus: {num_cpus}')\n",
    "    row_partitions = np.array_split(rows, num_cpus*10)\n",
    "    pool = Pool(processes=num_cpus)\n",
    "    partial_results = pool.map(preprocess_partition, row_partitions)\n",
    "    \n",
    "    transformed_rows = pd.concat(partial_results)\n",
    "\n",
    "    pool.close() \n",
    "    pool.join()\n",
    "    return transformed_rows"
   ]
  },
  {
   "cell_type": "code",
   "execution_count": 11,
   "metadata": {},
   "outputs": [
    {
     "name": "stdout",
     "output_type": "stream",
     "text": [
      "CPU times: user 1min 10s, sys: 15.7 s, total: 1min 25s\n",
      "Wall time: 4min 58s\n"
     ]
    }
   ],
   "source": [
    "%%time\n",
    "all_data = pd.concat([transform_input_records(label, data_source_location, 200000) for (label, data_source_location) in data_sources])"
   ]
  },
  {
   "cell_type": "code",
   "execution_count": 12,
   "metadata": {},
   "outputs": [
    {
     "data": {
      "text/html": [
       "<div>\n",
       "<style scoped>\n",
       "    .dataframe tbody tr th:only-of-type {\n",
       "        vertical-align: middle;\n",
       "    }\n",
       "\n",
       "    .dataframe tbody tr th {\n",
       "        vertical-align: top;\n",
       "    }\n",
       "\n",
       "    .dataframe thead th {\n",
       "        text-align: right;\n",
       "    }\n",
       "</style>\n",
       "<table border=\"1\" class=\"dataframe\">\n",
       "  <thead>\n",
       "    <tr style=\"text-align: right;\">\n",
       "      <th></th>\n",
       "      <th>label</th>\n",
       "      <th>reviewText</th>\n",
       "    </tr>\n",
       "  </thead>\n",
       "  <tbody>\n",
       "    <tr>\n",
       "      <th>134856</th>\n",
       "      <td>Baby</td>\n",
       "      <td>We had a previous iteration of this product th...</td>\n",
       "    </tr>\n",
       "    <tr>\n",
       "      <th>71799</th>\n",
       "      <td>Baby</td>\n",
       "      <td>These are an ok option. Easy to hold and a goo...</td>\n",
       "    </tr>\n",
       "    <tr>\n",
       "      <th>51956</th>\n",
       "      <td>Baby</td>\n",
       "      <td>I spent a lot of time reviewing comments onlin...</td>\n",
       "    </tr>\n",
       "    <tr>\n",
       "      <th>159953</th>\n",
       "      <td>Baby</td>\n",
       "      <td>This is a great nursing pillow- it's plush yet...</td>\n",
       "    </tr>\n",
       "    <tr>\n",
       "      <th>97073</th>\n",
       "      <td>Baby</td>\n",
       "      <td>My 4 month old loves this little toy she has a...</td>\n",
       "    </tr>\n",
       "  </tbody>\n",
       "</table>\n",
       "</div>"
      ],
      "text/plain": [
       "       label                                         reviewText\n",
       "134856  Baby  We had a previous iteration of this product th...\n",
       "71799   Baby  These are an ok option. Easy to hold and a goo...\n",
       "51956   Baby  I spent a lot of time reviewing comments onlin...\n",
       "159953  Baby  This is a great nursing pillow- it's plush yet...\n",
       "97073   Baby  My 4 month old loves this little toy she has a..."
      ]
     },
     "metadata": {},
     "output_type": "display_data"
    }
   ],
   "source": [
    "display(all_data[:5])"
   ]
  },
  {
   "cell_type": "code",
   "execution_count": 13,
   "metadata": {},
   "outputs": [],
   "source": [
    "all_data = all_data.sample(frac=1).reset_index(drop=True)"
   ]
  },
  {
   "cell_type": "code",
   "execution_count": 14,
   "metadata": {},
   "outputs": [
    {
     "data": {
      "text/html": [
       "<div>\n",
       "<style scoped>\n",
       "    .dataframe tbody tr th:only-of-type {\n",
       "        vertical-align: middle;\n",
       "    }\n",
       "\n",
       "    .dataframe tbody tr th {\n",
       "        vertical-align: top;\n",
       "    }\n",
       "\n",
       "    .dataframe thead th {\n",
       "        text-align: right;\n",
       "    }\n",
       "</style>\n",
       "<table border=\"1\" class=\"dataframe\">\n",
       "  <thead>\n",
       "    <tr style=\"text-align: right;\">\n",
       "      <th></th>\n",
       "      <th>label</th>\n",
       "      <th>reviewText</th>\n",
       "    </tr>\n",
       "  </thead>\n",
       "  <tbody>\n",
       "    <tr>\n",
       "      <th>count</th>\n",
       "      <td>800000</td>\n",
       "      <td>800000</td>\n",
       "    </tr>\n",
       "    <tr>\n",
       "      <th>unique</th>\n",
       "      <td>4</td>\n",
       "      <td>501953</td>\n",
       "    </tr>\n",
       "    <tr>\n",
       "      <th>top</th>\n",
       "      <td>Muscial_Instruments</td>\n",
       "      <td></td>\n",
       "    </tr>\n",
       "    <tr>\n",
       "      <th>freq</th>\n",
       "      <td>200000</td>\n",
       "      <td>349</td>\n",
       "    </tr>\n",
       "  </tbody>\n",
       "</table>\n",
       "</div>"
      ],
      "text/plain": [
       "                      label reviewText\n",
       "count                800000     800000\n",
       "unique                    4     501953\n",
       "top     Muscial_Instruments           \n",
       "freq                 200000        349"
      ]
     },
     "execution_count": 14,
     "metadata": {},
     "output_type": "execute_result"
    }
   ],
   "source": [
    "all_data.describe()"
   ]
  },
  {
   "cell_type": "code",
   "execution_count": 15,
   "metadata": {},
   "outputs": [
    {
     "name": "stdout",
     "output_type": "stream",
     "text": [
      "800000\n",
      "label\n",
      "Baby                   0.25\n",
      "Electronics            0.25\n",
      "Movies_and_TV          0.25\n",
      "Muscial_Instruments    0.25\n",
      "dtype: float64\n"
     ]
    }
   ],
   "source": [
    "n = len(all_data)\n",
    "print(n)\n",
    "print(all_data.groupby('label').size()/n)"
   ]
  },
  {
   "cell_type": "code",
   "execution_count": 16,
   "metadata": {},
   "outputs": [
    {
     "name": "stdout",
     "output_type": "stream",
     "text": [
      "cpus: 8\n"
     ]
    }
   ],
   "source": [
    "all_data = preprocess_data(all_data)"
   ]
  },
  {
   "cell_type": "code",
   "execution_count": null,
   "metadata": {},
   "outputs": [],
   "source": []
  },
  {
   "cell_type": "code",
   "execution_count": 17,
   "metadata": {},
   "outputs": [
    {
     "name": "stdout",
     "output_type": "stream",
     "text": [
      "520000 200000 80000\n",
      "CPU times: user 48.5 ms, sys: 4.07 ms, total: 52.6 ms\n",
      "Wall time: 52 ms\n"
     ]
    }
   ],
   "source": [
    "%%time\n",
    "#from sklearn.model_selection import train_test_split\n",
    "#train_data, validation_data = train_test_split(all_data, test_size=0.3)\n",
    "splits = [0.65, 0.9]\n",
    "split_indices = [int(n*split) for split in splits]\n",
    "train_data, validation_data, test_data = np.split(all_data, split_indices)\n",
    "print(len(train_data), len(validation_data), len(test_data))"
   ]
  },
  {
   "cell_type": "code",
   "execution_count": 18,
   "metadata": {},
   "outputs": [],
   "source": [
    "#__label__EmailInboxFireClaims My house burned down <email text>."
   ]
  },
  {
   "cell_type": "code",
   "execution_count": 19,
   "metadata": {},
   "outputs": [
    {
     "name": "stdout",
     "output_type": "stream",
     "text": [
      "CPU times: user 46.4 s, sys: 594 ms, total: 46.9 s\n",
      "Wall time: 51.4 s\n"
     ]
    }
   ],
   "source": [
    "%%time\n",
    "\n",
    "def write_data(data, path):\n",
    "    with open(path, 'w') as f:\n",
    "        for index, row in data.iterrows():\n",
    "            f.write(f'__label__{row.label} {row.reviewText}\\n')\n",
    "write_data(train_data, output_dir+'train.csv')\n",
    "write_data(validation_data, output_dir+'validation.csv')"
   ]
  },
  {
   "cell_type": "code",
   "execution_count": 20,
   "metadata": {},
   "outputs": [
    {
     "name": "stdout",
     "output_type": "stream",
     "text": [
      "__label__Electronics i bought the little speakers for his i pod and thoughtthis would be perfect , for them and it is . he just loves his speaker and thesplitter works great .\n",
      "__label__Movies_and_TV will ferrell is one of my favorite comic personalities . revisiting his time on snl with this dvd is truly a good time.there are plenty of skits on the dvd that people are well familiar with , such as the james lipton skit , craig the spartan cheerleader , harry caray , etc . yet some of these skits had escaped my attention , like the `` dissing your dog '' skit . i had to watch parts of that one a few times over ... hilarious . will ferrell never disappoints me.the dvd also features bonus material . will ferrell 's original audition footage is included , as are outtakes and a few memorable appearances on late night with conan o'brien.this is a great buy .\n",
      "__label__Electronics i have bought this item like 2 years ago and still working perfect and accomplishing the purpose it was invented .\n"
     ]
    }
   ],
   "source": [
    "!head -n3 data/validation.csv"
   ]
  },
  {
   "cell_type": "code",
   "execution_count": 21,
   "metadata": {},
   "outputs": [
    {
     "name": "stdout",
     "output_type": "stream",
     "text": [
      "s3://mkamp-amazon-reviews/data/train s3://mkamp-amazon-reviews/data/validation s3://mkamp-amazon-reviews/data/output\n",
      "CPU times: user 3.55 s, sys: 2.55 s, total: 6.1 s\n",
      "Wall time: 3 s\n"
     ]
    }
   ],
   "source": [
    "%%time\n",
    "\n",
    "train_channel = prefix + '/train'\n",
    "validation_channel = prefix + '/validation'\n",
    "\n",
    "sess.upload_data(path=output_dir+'train.csv', bucket=bucket, key_prefix=train_channel)\n",
    "sess.upload_data(path=output_dir+'validation.csv', bucket=bucket, key_prefix=validation_channel)\n",
    "\n",
    "s3_train_data = 's3://{}/{}'.format(bucket, train_channel)\n",
    "s3_validation_data = 's3://{}/{}'.format(bucket, validation_channel)\n",
    "\n",
    "s3_output_location = 's3://{}/{}/output'.format(bucket, prefix)\n",
    "\n",
    "print (s3_train_data, s3_validation_data, s3_output_location)"
   ]
  },
  {
   "cell_type": "code",
   "execution_count": 22,
   "metadata": {},
   "outputs": [],
   "source": [
    "region_name = boto3.Session().region_name"
   ]
  },
  {
   "cell_type": "code",
   "execution_count": 23,
   "metadata": {},
   "outputs": [
    {
     "name": "stdout",
     "output_type": "stream",
     "text": [
      "Using SageMaker BlazingText container: 685385470294.dkr.ecr.eu-west-1.amazonaws.com/blazingtext:latest (eu-west-1)\n"
     ]
    }
   ],
   "source": [
    "container = sagemaker.amazon.amazon_estimator.get_image_uri(region_name, \"blazingtext\", \"latest\")\n",
    "print('Using SageMaker BlazingText container: {} ({})'.format(container, region_name))"
   ]
  },
  {
   "cell_type": "code",
   "execution_count": 24,
   "metadata": {},
   "outputs": [],
   "source": [
    "bt_model = sagemaker.estimator.Estimator(container,\n",
    "                                         role, \n",
    "                                         train_instance_count=1, \n",
    "                                         train_instance_type='ml.c4.4xlarge',\n",
    "                                         train_volume_size = 30,\n",
    "                                         train_max_run = 360000,\n",
    "                                         input_mode= 'File',\n",
    "                                         output_path=s3_output_location,\n",
    "                                         sagemaker_session=sess)"
   ]
  },
  {
   "cell_type": "code",
   "execution_count": 25,
   "metadata": {},
   "outputs": [],
   "source": [
    "bt_model.set_hyperparameters(mode=\"supervised\",\n",
    "                            epochs=10,\n",
    "                            min_count=2,\n",
    "                            learning_rate=0.05,\n",
    "                            vector_dim=10,\n",
    "                            early_stopping=True,\n",
    "                            patience=4,\n",
    "                            min_epochs=5,\n",
    "                            word_ngrams=2)"
   ]
  },
  {
   "cell_type": "code",
   "execution_count": 26,
   "metadata": {},
   "outputs": [],
   "source": [
    "train_data = sagemaker.session.s3_input(s3_train_data, distribution='FullyReplicated', \n",
    "                        content_type='text/plain', s3_data_type='S3Prefix')\n",
    "validation_data = sagemaker.session.s3_input(s3_validation_data, distribution='FullyReplicated', \n",
    "                             content_type='text/plain', s3_data_type='S3Prefix')\n",
    "data_channels = {'train': train_data, 'validation': validation_data}"
   ]
  },
  {
   "cell_type": "code",
   "execution_count": 27,
   "metadata": {},
   "outputs": [
    {
     "name": "stderr",
     "output_type": "stream",
     "text": [
      "INFO:sagemaker:Creating training-job with name: blazingtext-2019-03-02-13-33-17-678\n"
     ]
    },
    {
     "name": "stdout",
     "output_type": "stream",
     "text": [
      "2019-03-02 13:33:17 Starting - Starting the training job...\n",
      "2019-03-02 13:33:19 Starting - Launching requested ML instances...\n",
      "2019-03-02 13:34:17 Starting - Preparing the instances for training......\n",
      "2019-03-02 13:35:13 Downloading - Downloading input data...\n",
      "2019-03-02 13:35:29 Training - Training image download completed. Training in progress.\n",
      "\u001b[31mArguments: train\u001b[0m\n",
      "\u001b[31m[03/02/2019 13:35:30 WARNING 140400350426944] Loggers have already been setup.\u001b[0m\n",
      "\u001b[31m[03/02/2019 13:35:30 WARNING 140400350426944] Loggers have already been setup.\u001b[0m\n",
      "\u001b[31m[03/02/2019 13:35:30 INFO 140400350426944] nvidia-smi took: 0.0251641273499 secs to identify 0 gpus\u001b[0m\n",
      "\u001b[31m[03/02/2019 13:35:30 INFO 140400350426944] Running single machine CPU BlazingText training using supervised mode.\u001b[0m\n",
      "\u001b[31m[03/02/2019 13:35:30 INFO 140400350426944] Processing /opt/ml/input/data/train/train.csv . File size: 337 MB\u001b[0m\n",
      "\u001b[31m[03/02/2019 13:35:30 INFO 140400350426944] Processing /opt/ml/input/data/validation/validation.csv . File size: 129 MB\u001b[0m\n",
      "\u001b[31mRead 10M words\u001b[0m\n",
      "\u001b[31mRead 20M words\u001b[0m\n",
      "\u001b[31mRead 30M words\u001b[0m\n",
      "\u001b[31mRead 40M words\u001b[0m\n",
      "\u001b[31mRead 50M words\u001b[0m\n",
      "\u001b[31mRead 60M words\u001b[0m\n",
      "\u001b[31mRead 70M words\u001b[0m\n",
      "\u001b[31mRead 70M words\u001b[0m\n",
      "\u001b[31mNumber of words:  226129\u001b[0m\n",
      "\u001b[31mLoading validation data from /opt/ml/input/data/validation/validation.csv\u001b[0m\n",
      "\u001b[31mLoaded validation data.\u001b[0m\n",
      "\u001b[31m-------------- End of epoch: 3\u001b[0m\n",
      "\u001b[31m##### Alpha: 0.0312  Progress: 37.55%  Million Words/sec: 39.79 #####\u001b[0m\n",
      "\u001b[31m-------------- End of epoch: 4\u001b[0m\n",
      "\u001b[31m##### Alpha: 0.0286  Progress: 42.85%  Million Words/sec: 40.01 #####\u001b[0m\n",
      "\u001b[31m##### Alpha: 0.0259  Progress: 48.16%  Million Words/sec: 40.19 #####\u001b[0m\n",
      "\u001b[31m-------------- End of epoch: 5\u001b[0m\n",
      "\u001b[31mUsing 16 threads for prediction!\u001b[0m\n",
      "\u001b[31mValidation accuracy: 0.985205\u001b[0m\n",
      "\u001b[31mValidation accuracy improved! Storing best weights...\u001b[0m\n",
      "\u001b[31m##### Alpha: 0.0232  Progress: 53.58%  Million Words/sec: 38.58 #####\u001b[0m\n",
      "\u001b[31m##### Alpha: 0.0205  Progress: 58.94%  Million Words/sec: 38.87 #####\u001b[0m\n",
      "\u001b[31m-------------- End of epoch: 6\u001b[0m\n",
      "\u001b[31mUsing 16 threads for prediction!\u001b[0m\n",
      "\u001b[31mValidation accuracy: 0.98592\u001b[0m\n",
      "\u001b[31mValidation accuracy improved! Storing best weights...\u001b[0m\n",
      "\u001b[31m##### Alpha: 0.0178  Progress: 64.35%  Million Words/sec: 37.99 #####\u001b[0m\n",
      "\u001b[31m##### Alpha: 0.0151  Progress: 69.70%  Million Words/sec: 38.28 #####\u001b[0m\n",
      "\u001b[31m-------------- End of epoch: 7\u001b[0m\n",
      "\u001b[31mUsing 16 threads for prediction!\u001b[0m\n",
      "\u001b[31mValidation accuracy: 0.987045\u001b[0m\n",
      "\u001b[31mValidation accuracy improved! Storing best weights...\u001b[0m\n",
      "\u001b[31m##### Alpha: 0.0124  Progress: 75.13%  Million Words/sec: 37.61 #####\u001b[0m\n",
      "\u001b[31m##### Alpha: 0.0098  Progress: 80.47%  Million Words/sec: 37.87 #####\u001b[0m\n",
      "\u001b[31m-------------- End of epoch: 8\u001b[0m\n",
      "\u001b[31mUsing 16 threads for prediction!\u001b[0m\n",
      "\u001b[31mValidation accuracy: 0.98636\u001b[0m\n",
      "\u001b[31mValidation accuracy has not improved for last 1 epochs.\u001b[0m\n",
      "\u001b[31m##### Alpha: 0.0071  Progress: 85.79%  Million Words/sec: 37.18 #####\u001b[0m\n",
      "\u001b[31m-------------- End of epoch: 9\u001b[0m\n",
      "\u001b[31mUsing 16 threads for prediction!\u001b[0m\n",
      "\u001b[31mValidation accuracy: 0.986815\u001b[0m\n",
      "\u001b[31mValidation accuracy has not improved for last 2 epochs.\u001b[0m\n",
      "\u001b[31m##### Alpha: 0.0046  Progress: 90.84%  Million Words/sec: 36.91 #####\u001b[0m\n",
      "\u001b[31m##### Alpha: 0.0021  Progress: 95.86%  Million Words/sec: 37.03 #####\u001b[0m\n",
      "\u001b[31m-------------- End of epoch: 10\u001b[0m\n",
      "\u001b[31mUsing 16 threads for prediction!\u001b[0m\n",
      "\u001b[31mValidation accuracy: 0.98688\u001b[0m\n",
      "\u001b[31mValidation accuracy has not improved for last 3 epochs.\u001b[0m\n",
      "\u001b[31m##### Alpha: 0.0000  Progress: 100.00%  Million Words/sec: 36.85 #####\u001b[0m\n",
      "\n",
      "2019-03-02 13:36:13 Uploading - Uploading generated training model\u001b[31mTraining finished.\u001b[0m\n",
      "\u001b[31mAverage throughput in Million words/sec: 36.85\u001b[0m\n",
      "\u001b[31mTotal training time in seconds: 19.19\n",
      "\u001b[0m\n",
      "\u001b[31m#train_accuracy: 0.9964\u001b[0m\n",
      "\u001b[31mNumber of train examples: 520000\n",
      "\u001b[0m\n",
      "\u001b[31m#validation_accuracy: 0.987\u001b[0m\n",
      "\u001b[31mNumber of validation examples: 200000\u001b[0m\n",
      "\n",
      "2019-03-02 13:36:29 Completed - Training job completed\n",
      "Billable seconds: 76\n"
     ]
    }
   ],
   "source": [
    "bt_model.fit(inputs=data_channels, logs=True)"
   ]
  },
  {
   "cell_type": "code",
   "execution_count": null,
   "metadata": {},
   "outputs": [],
   "source": []
  },
  {
   "cell_type": "code",
   "execution_count": 28,
   "metadata": {},
   "outputs": [
    {
     "name": "stderr",
     "output_type": "stream",
     "text": [
      "INFO:sagemaker:Creating model with name: blazingtext-2019-03-02-13-36-59-737\n",
      "INFO:sagemaker:Creating endpoint with name blazingtext-2019-03-02-13-33-17-678\n"
     ]
    },
    {
     "name": "stdout",
     "output_type": "stream",
     "text": [
      "---------------------------------------------------------------!"
     ]
    }
   ],
   "source": [
    "text_classifier = bt_model.deploy(initial_instance_count = 1, instance_type = 'ml.m4.xlarge')"
   ]
  },
  {
   "cell_type": "code",
   "execution_count": 29,
   "metadata": {},
   "outputs": [
    {
     "name": "stdout",
     "output_type": "stream",
     "text": [
      "i just did n't know what i was getting . i do n't like this one . i did n't even watch all of them . the first one was so bad .\n"
     ]
    }
   ],
   "source": [
    "print(all_data.iloc[5].reviewText)"
   ]
  },
  {
   "cell_type": "code",
   "execution_count": 30,
   "metadata": {},
   "outputs": [
    {
     "data": {
      "text/html": [
       "<div>\n",
       "<style scoped>\n",
       "    .dataframe tbody tr th:only-of-type {\n",
       "        vertical-align: middle;\n",
       "    }\n",
       "\n",
       "    .dataframe tbody tr th {\n",
       "        vertical-align: top;\n",
       "    }\n",
       "\n",
       "    .dataframe thead th {\n",
       "        text-align: right;\n",
       "    }\n",
       "</style>\n",
       "<table border=\"1\" class=\"dataframe\">\n",
       "  <thead>\n",
       "    <tr style=\"text-align: right;\">\n",
       "      <th></th>\n",
       "      <th>label</th>\n",
       "      <th>reviewText</th>\n",
       "    </tr>\n",
       "  </thead>\n",
       "  <tbody>\n",
       "    <tr>\n",
       "      <th>0</th>\n",
       "      <td>Electronics</td>\n",
       "      <td>i preordered these headphones last summer as a...</td>\n",
       "    </tr>\n",
       "    <tr>\n",
       "      <th>1</th>\n",
       "      <td>Movies_and_TV</td>\n",
       "      <td>ghosts and demons of all shapes and forms come...</td>\n",
       "    </tr>\n",
       "    <tr>\n",
       "      <th>2</th>\n",
       "      <td>Muscial_Instruments</td>\n",
       "      <td>i have the snark 2 but read that this was the ...</td>\n",
       "    </tr>\n",
       "    <tr>\n",
       "      <th>3</th>\n",
       "      <td>Electronics</td>\n",
       "      <td>very simple , slim case . fits perfect . looks...</td>\n",
       "    </tr>\n",
       "    <tr>\n",
       "      <th>4</th>\n",
       "      <td>Baby</td>\n",
       "      <td>works well in our bumbleride stroller . especi...</td>\n",
       "    </tr>\n",
       "    <tr>\n",
       "      <th>5</th>\n",
       "      <td>Movies_and_TV</td>\n",
       "      <td>i just did n't know what i was getting . i do ...</td>\n",
       "    </tr>\n",
       "    <tr>\n",
       "      <th>6</th>\n",
       "      <td>Movies_and_TV</td>\n",
       "      <td>everyone in city island has a secret . you wil...</td>\n",
       "    </tr>\n",
       "    <tr>\n",
       "      <th>7</th>\n",
       "      <td>Muscial_Instruments</td>\n",
       "      <td>even though i have a tuner in my pedalboard se...</td>\n",
       "    </tr>\n",
       "    <tr>\n",
       "      <th>8</th>\n",
       "      <td>Electronics</td>\n",
       "      <td>i upgraded my maps in one garmin gps and insta...</td>\n",
       "    </tr>\n",
       "    <tr>\n",
       "      <th>9</th>\n",
       "      <td>Baby</td>\n",
       "      <td>this stroller is exactly what i was looking fo...</td>\n",
       "    </tr>\n",
       "    <tr>\n",
       "      <th>10</th>\n",
       "      <td>Movies_and_TV</td>\n",
       "      <td>my question is is their a few added episode th...</td>\n",
       "    </tr>\n",
       "    <tr>\n",
       "      <th>11</th>\n",
       "      <td>Electronics</td>\n",
       "      <td>i would 've rated them a 5 but the speakers we...</td>\n",
       "    </tr>\n",
       "    <tr>\n",
       "      <th>12</th>\n",
       "      <td>Baby</td>\n",
       "      <td>it lights up different colors , has a mirror o...</td>\n",
       "    </tr>\n",
       "    <tr>\n",
       "      <th>13</th>\n",
       "      <td>Movies_and_TV</td>\n",
       "      <td>aaron eckhart ( your friends &amp; neighbors , the...</td>\n",
       "    </tr>\n",
       "    <tr>\n",
       "      <th>14</th>\n",
       "      <td>Electronics</td>\n",
       "      <td>lightscribe yes , but why the baby-poop color ...</td>\n",
       "    </tr>\n",
       "    <tr>\n",
       "      <th>15</th>\n",
       "      <td>Electronics</td>\n",
       "      <td>i bought this for a road trip and it has worke...</td>\n",
       "    </tr>\n",
       "    <tr>\n",
       "      <th>16</th>\n",
       "      <td>Muscial_Instruments</td>\n",
       "      <td>i did a little research to find the best strin...</td>\n",
       "    </tr>\n",
       "    <tr>\n",
       "      <th>17</th>\n",
       "      <td>Muscial_Instruments</td>\n",
       "      <td>i had intended to carry this , with my keys , ...</td>\n",
       "    </tr>\n",
       "    <tr>\n",
       "      <th>18</th>\n",
       "      <td>Movies_and_TV</td>\n",
       "      <td>do not let anyone tell you this is a poor rema...</td>\n",
       "    </tr>\n",
       "    <tr>\n",
       "      <th>19</th>\n",
       "      <td>Muscial_Instruments</td>\n",
       "      <td>this mic is well made ( heavy on the mic-end )...</td>\n",
       "    </tr>\n",
       "    <tr>\n",
       "      <th>20</th>\n",
       "      <td>Baby</td>\n",
       "      <td>i was nervous about not having a water thermom...</td>\n",
       "    </tr>\n",
       "    <tr>\n",
       "      <th>21</th>\n",
       "      <td>Muscial_Instruments</td>\n",
       "      <td>this stand ( it just arrived in the mail ) wil...</td>\n",
       "    </tr>\n",
       "    <tr>\n",
       "      <th>22</th>\n",
       "      <td>Electronics</td>\n",
       "      <td>works with my motorola droid razr and it came ...</td>\n",
       "    </tr>\n",
       "    <tr>\n",
       "      <th>23</th>\n",
       "      <td>Electronics</td>\n",
       "      <td>my wife bought this for me as a christmas pres...</td>\n",
       "    </tr>\n",
       "    <tr>\n",
       "      <th>24</th>\n",
       "      <td>Muscial_Instruments</td>\n",
       "      <td>i have been purchasing these strings for over ...</td>\n",
       "    </tr>\n",
       "    <tr>\n",
       "      <th>25</th>\n",
       "      <td>Electronics</td>\n",
       "      <td>if you watch the video beforehand ( the link t...</td>\n",
       "    </tr>\n",
       "    <tr>\n",
       "      <th>26</th>\n",
       "      <td>Baby</td>\n",
       "      <td>only just received this blanket so i ca n't co...</td>\n",
       "    </tr>\n",
       "    <tr>\n",
       "      <th>27</th>\n",
       "      <td>Baby</td>\n",
       "      <td>works like a charm and very nice looking and s...</td>\n",
       "    </tr>\n",
       "    <tr>\n",
       "      <th>28</th>\n",
       "      <td>Movies_and_TV</td>\n",
       "      <td>this is a great movie i highly recommend . it ...</td>\n",
       "    </tr>\n",
       "    <tr>\n",
       "      <th>29</th>\n",
       "      <td>Baby</td>\n",
       "      <td>this sheet looks great on our crib and it fits...</td>\n",
       "    </tr>\n",
       "    <tr>\n",
       "      <th>...</th>\n",
       "      <td>...</td>\n",
       "      <td>...</td>\n",
       "    </tr>\n",
       "    <tr>\n",
       "      <th>799970</th>\n",
       "      <td>Movies_and_TV</td>\n",
       "      <td>here 's a film i would have never ventured to ...</td>\n",
       "    </tr>\n",
       "    <tr>\n",
       "      <th>799971</th>\n",
       "      <td>Muscial_Instruments</td>\n",
       "      <td>i read the reviews of the few similar options ...</td>\n",
       "    </tr>\n",
       "    <tr>\n",
       "      <th>799972</th>\n",
       "      <td>Baby</td>\n",
       "      <td>i needed another play gym to bring to my offic...</td>\n",
       "    </tr>\n",
       "    <tr>\n",
       "      <th>799973</th>\n",
       "      <td>Movies_and_TV</td>\n",
       "      <td>for many years , i have been a fan of jim carr...</td>\n",
       "    </tr>\n",
       "    <tr>\n",
       "      <th>799974</th>\n",
       "      <td>Movies_and_TV</td>\n",
       "      <td>the cast makes the movie ... stars i know and ...</td>\n",
       "    </tr>\n",
       "    <tr>\n",
       "      <th>799975</th>\n",
       "      <td>Muscial_Instruments</td>\n",
       "      <td>so i bought this to replace the original strin...</td>\n",
       "    </tr>\n",
       "    <tr>\n",
       "      <th>799976</th>\n",
       "      <td>Baby</td>\n",
       "      <td>very lightweight and durable . easy to lock in...</td>\n",
       "    </tr>\n",
       "    <tr>\n",
       "      <th>799977</th>\n",
       "      <td>Movies_and_TV</td>\n",
       "      <td>this is a very severe film . what promises in ...</td>\n",
       "    </tr>\n",
       "    <tr>\n",
       "      <th>799978</th>\n",
       "      <td>Muscial_Instruments</td>\n",
       "      <td>this thing is a little jewel . i have a jazz g...</td>\n",
       "    </tr>\n",
       "    <tr>\n",
       "      <th>799979</th>\n",
       "      <td>Movies_and_TV</td>\n",
       "      <td>i liked the development of characters , where ...</td>\n",
       "    </tr>\n",
       "    <tr>\n",
       "      <th>799980</th>\n",
       "      <td>Baby</td>\n",
       "      <td>i love this toy ! my son especially likes the ...</td>\n",
       "    </tr>\n",
       "    <tr>\n",
       "      <th>799981</th>\n",
       "      <td>Electronics</td>\n",
       "      <td>this review is on the norton utilities 15 and ...</td>\n",
       "    </tr>\n",
       "    <tr>\n",
       "      <th>799982</th>\n",
       "      <td>Baby</td>\n",
       "      <td>my daughter is small for her age and these did...</td>\n",
       "    </tr>\n",
       "    <tr>\n",
       "      <th>799983</th>\n",
       "      <td>Muscial_Instruments</td>\n",
       "      <td>easily installed on my parlor guitar . the ova...</td>\n",
       "    </tr>\n",
       "    <tr>\n",
       "      <th>799984</th>\n",
       "      <td>Electronics</td>\n",
       "      <td>( review from jan 2012 ) absolutely love this ...</td>\n",
       "    </tr>\n",
       "    <tr>\n",
       "      <th>799985</th>\n",
       "      <td>Electronics</td>\n",
       "      <td>the downloadable pdf says `` not covered : ( n...</td>\n",
       "    </tr>\n",
       "    <tr>\n",
       "      <th>799986</th>\n",
       "      <td>Movies_and_TV</td>\n",
       "      <td>if you loved the first one , you will love thi...</td>\n",
       "    </tr>\n",
       "    <tr>\n",
       "      <th>799987</th>\n",
       "      <td>Baby</td>\n",
       "      <td>we 've only had this gate up for a couple of d...</td>\n",
       "    </tr>\n",
       "    <tr>\n",
       "      <th>799988</th>\n",
       "      <td>Baby</td>\n",
       "      <td>we were very pleased when this toy came . my 6...</td>\n",
       "    </tr>\n",
       "    <tr>\n",
       "      <th>799989</th>\n",
       "      <td>Electronics</td>\n",
       "      <td>using an his radeon 6950 2gb card on a new i72...</td>\n",
       "    </tr>\n",
       "    <tr>\n",
       "      <th>799990</th>\n",
       "      <td>Movies_and_TV</td>\n",
       "      <td>i purchased this for a dear friend who collect...</td>\n",
       "    </tr>\n",
       "    <tr>\n",
       "      <th>799991</th>\n",
       "      <td>Baby</td>\n",
       "      <td>i bought this because it appears very comforta...</td>\n",
       "    </tr>\n",
       "    <tr>\n",
       "      <th>799992</th>\n",
       "      <td>Electronics</td>\n",
       "      <td>hmm . i have revision c.i am not about to say ...</td>\n",
       "    </tr>\n",
       "    <tr>\n",
       "      <th>799993</th>\n",
       "      <td>Movies_and_TV</td>\n",
       "      <td>i just saw this on the own channel and it was ...</td>\n",
       "    </tr>\n",
       "    <tr>\n",
       "      <th>799994</th>\n",
       "      <td>Electronics</td>\n",
       "      <td>not sure why this keyboard got some of the bad...</td>\n",
       "    </tr>\n",
       "    <tr>\n",
       "      <th>799995</th>\n",
       "      <td>Electronics</td>\n",
       "      <td>i like the viewsonic name.i have a viewsonic 2...</td>\n",
       "    </tr>\n",
       "    <tr>\n",
       "      <th>799996</th>\n",
       "      <td>Muscial_Instruments</td>\n",
       "      <td>this really cleans your strings . it 's fast w...</td>\n",
       "    </tr>\n",
       "    <tr>\n",
       "      <th>799997</th>\n",
       "      <td>Movies_and_TV</td>\n",
       "      <td>great movie , rich and beautifully made ! a de...</td>\n",
       "    </tr>\n",
       "    <tr>\n",
       "      <th>799998</th>\n",
       "      <td>Muscial_Instruments</td>\n",
       "      <td>mics are like pants , you have to find the rig...</td>\n",
       "    </tr>\n",
       "    <tr>\n",
       "      <th>799999</th>\n",
       "      <td>Muscial_Instruments</td>\n",
       "      <td>this is a quality product.super fast shiiping ...</td>\n",
       "    </tr>\n",
       "  </tbody>\n",
       "</table>\n",
       "<p>800000 rows × 2 columns</p>\n",
       "</div>"
      ],
      "text/plain": [
       "                      label                                         reviewText\n",
       "0               Electronics  i preordered these headphones last summer as a...\n",
       "1             Movies_and_TV  ghosts and demons of all shapes and forms come...\n",
       "2       Muscial_Instruments  i have the snark 2 but read that this was the ...\n",
       "3               Electronics  very simple , slim case . fits perfect . looks...\n",
       "4                      Baby  works well in our bumbleride stroller . especi...\n",
       "5             Movies_and_TV  i just did n't know what i was getting . i do ...\n",
       "6             Movies_and_TV  everyone in city island has a secret . you wil...\n",
       "7       Muscial_Instruments  even though i have a tuner in my pedalboard se...\n",
       "8               Electronics  i upgraded my maps in one garmin gps and insta...\n",
       "9                      Baby  this stroller is exactly what i was looking fo...\n",
       "10            Movies_and_TV  my question is is their a few added episode th...\n",
       "11              Electronics  i would 've rated them a 5 but the speakers we...\n",
       "12                     Baby  it lights up different colors , has a mirror o...\n",
       "13            Movies_and_TV  aaron eckhart ( your friends & neighbors , the...\n",
       "14              Electronics  lightscribe yes , but why the baby-poop color ...\n",
       "15              Electronics  i bought this for a road trip and it has worke...\n",
       "16      Muscial_Instruments  i did a little research to find the best strin...\n",
       "17      Muscial_Instruments  i had intended to carry this , with my keys , ...\n",
       "18            Movies_and_TV  do not let anyone tell you this is a poor rema...\n",
       "19      Muscial_Instruments  this mic is well made ( heavy on the mic-end )...\n",
       "20                     Baby  i was nervous about not having a water thermom...\n",
       "21      Muscial_Instruments  this stand ( it just arrived in the mail ) wil...\n",
       "22              Electronics  works with my motorola droid razr and it came ...\n",
       "23              Electronics  my wife bought this for me as a christmas pres...\n",
       "24      Muscial_Instruments  i have been purchasing these strings for over ...\n",
       "25              Electronics  if you watch the video beforehand ( the link t...\n",
       "26                     Baby  only just received this blanket so i ca n't co...\n",
       "27                     Baby  works like a charm and very nice looking and s...\n",
       "28            Movies_and_TV  this is a great movie i highly recommend . it ...\n",
       "29                     Baby  this sheet looks great on our crib and it fits...\n",
       "...                     ...                                                ...\n",
       "799970        Movies_and_TV  here 's a film i would have never ventured to ...\n",
       "799971  Muscial_Instruments  i read the reviews of the few similar options ...\n",
       "799972                 Baby  i needed another play gym to bring to my offic...\n",
       "799973        Movies_and_TV  for many years , i have been a fan of jim carr...\n",
       "799974        Movies_and_TV  the cast makes the movie ... stars i know and ...\n",
       "799975  Muscial_Instruments  so i bought this to replace the original strin...\n",
       "799976                 Baby  very lightweight and durable . easy to lock in...\n",
       "799977        Movies_and_TV  this is a very severe film . what promises in ...\n",
       "799978  Muscial_Instruments  this thing is a little jewel . i have a jazz g...\n",
       "799979        Movies_and_TV  i liked the development of characters , where ...\n",
       "799980                 Baby  i love this toy ! my son especially likes the ...\n",
       "799981          Electronics  this review is on the norton utilities 15 and ...\n",
       "799982                 Baby  my daughter is small for her age and these did...\n",
       "799983  Muscial_Instruments  easily installed on my parlor guitar . the ova...\n",
       "799984          Electronics  ( review from jan 2012 ) absolutely love this ...\n",
       "799985          Electronics  the downloadable pdf says `` not covered : ( n...\n",
       "799986        Movies_and_TV  if you loved the first one , you will love thi...\n",
       "799987                 Baby  we 've only had this gate up for a couple of d...\n",
       "799988                 Baby  we were very pleased when this toy came . my 6...\n",
       "799989          Electronics  using an his radeon 6950 2gb card on a new i72...\n",
       "799990        Movies_and_TV  i purchased this for a dear friend who collect...\n",
       "799991                 Baby  i bought this because it appears very comforta...\n",
       "799992          Electronics  hmm . i have revision c.i am not about to say ...\n",
       "799993        Movies_and_TV  i just saw this on the own channel and it was ...\n",
       "799994          Electronics  not sure why this keyboard got some of the bad...\n",
       "799995          Electronics  i like the viewsonic name.i have a viewsonic 2...\n",
       "799996  Muscial_Instruments  this really cleans your strings . it 's fast w...\n",
       "799997        Movies_and_TV  great movie , rich and beautifully made ! a de...\n",
       "799998  Muscial_Instruments  mics are like pants , you have to find the rig...\n",
       "799999  Muscial_Instruments  this is a quality product.super fast shiiping ...\n",
       "\n",
       "[800000 rows x 2 columns]"
      ]
     },
     "metadata": {},
     "output_type": "display_data"
    }
   ],
   "source": [
    "display(all_data)"
   ]
  },
  {
   "cell_type": "code",
   "execution_count": 31,
   "metadata": {},
   "outputs": [
    {
     "data": {
      "text/plain": [
       "[('Baby',\n",
       "  \"i received this free with my recent purchase of a new britax marathon carseat . it fits the car seat just fine , but must be placed where indicated on the instructions , which puts it just out of reach of my 10 month-old . i think this will work better when he 's older , but it 's useless until then . i think there are probably better options out there -- glad i did n't pay for it .\"),\n",
       " ('Muscial_Instruments',\n",
       "  'this stand is very stable and easy to put together . works perfect for keeping my guitar safe from being knocked over .'),\n",
       " ('Electronics',\n",
       "  \"after reading some of the reviews i was a little skeptical about the kingston micro 's performance and speed . these convenient memory mini sticks work beautifully . i was quite impressed its quality and speed , as well as the very reasonable price . kingston is as good or better than any of the other brands out there .\"),\n",
       " ('Movies_and_TV',\n",
       "  'fast service , good condition when it got here no problems , will probably order there again played great made my christmas perfect')]"
      ]
     },
     "metadata": {},
     "output_type": "display_data"
    }
   ],
   "source": [
    "test_phrases = [(label, test_data[test_data.label == label].iloc[10].reviewText) for (label, _) in data_sources]\n",
    "display(test_phrases)"
   ]
  },
  {
   "cell_type": "code",
   "execution_count": 32,
   "metadata": {
    "scrolled": true
   },
   "outputs": [
    {
     "name": "stdout",
     "output_type": "stream",
     "text": [
      "labels: ['Baby', 'Muscial_Instruments', 'Electronics', 'Movies_and_TV']\n",
      "[\n",
      "  {\n",
      "    \"prob\": [\n",
      "      0.9972860217094421,\n",
      "      0.002478039590641856\n",
      "    ],\n",
      "    \"label\": [\n",
      "      \"__label__Baby\",\n",
      "      \"__label__Electronics\"\n",
      "    ]\n",
      "  },\n",
      "  {\n",
      "    \"prob\": [\n",
      "      1.0000098943710327,\n",
      "      1.0059728083433583e-05\n",
      "    ],\n",
      "    \"label\": [\n",
      "      \"__label__Muscial_Instruments\",\n",
      "      \"__label__Electronics\"\n",
      "    ]\n",
      "  },\n",
      "  {\n",
      "    \"prob\": [\n",
      "      0.9996287822723389,\n",
      "      0.00013893464347347617\n",
      "    ],\n",
      "    \"label\": [\n",
      "      \"__label__Electronics\",\n",
      "      \"__label__Muscial_Instruments\"\n",
      "    ]\n",
      "  },\n",
      "  {\n",
      "    \"prob\": [\n",
      "      0.7747838497161865,\n",
      "      0.22514867782592773\n",
      "    ],\n",
      "    \"label\": [\n",
      "      \"__label__Electronics\",\n",
      "      \"__label__Movies_and_TV\"\n",
      "    ]\n",
      "  }\n",
      "]\n",
      "CPU times: user 12.4 ms, sys: 0 ns, total: 12.4 ms\n",
      "Wall time: 172 ms\n"
     ]
    }
   ],
   "source": [
    "%%time\n",
    "\n",
    "phrases = [phrase for (label, phrase) in test_phrases]\n",
    "print('labels:', [label for (label, _) in test_phrases])\n",
    "\n",
    "# using the same nltk tokenizer that we used during data preparation for training\n",
    "#tokenized_sentences = [' '.join(nltk.word_tokenize(sent)) for sent in sentences]\n",
    "\n",
    "payload = {\"instances\" : phrases, \n",
    "           \"configuration\": {\"k\": 2}}\n",
    "\n",
    "response = text_classifier.predict(json.dumps(payload))\n",
    "\n",
    "predictions = json.loads(response)\n",
    "print(json.dumps(predictions, indent=2))"
   ]
  },
  {
   "cell_type": "code",
   "execution_count": 33,
   "metadata": {},
   "outputs": [
    {
     "name": "stdout",
     "output_type": "stream",
     "text": [
      "Inferring classes for 5000 phrases.\n",
      "Number of predictions: 5000\n",
      "accuracy: 0.987\n",
      "CPU times: user 669 ms, sys: 10.4 ms, total: 679 ms\n",
      "Wall time: 1.19 s\n"
     ]
    }
   ],
   "source": [
    "%%time\n",
    "\n",
    "test_sample = test_data.sample(5000)\n",
    "\n",
    "phrases = [review.reviewText for (index, review) in test_sample.iterrows()]\n",
    "\n",
    "print(f'Inferring classes for {len(phrases)} phrases.')\n",
    "\n",
    "payload = {\"instances\" : phrases}\n",
    "\n",
    "response = text_classifier.predict(json.dumps(payload))\n",
    "\n",
    "predictions = json.loads(response)\n",
    "\n",
    "print(f'Number of predictions: {len(predictions)}')\n",
    "matched = np.array(([prediction['label'][0] == f'__label__{test_sample.iloc[index].label}' for (index, prediction) in enumerate(predictions)]))\n",
    "acc = (matched == True).sum()/len(matched)\n",
    "print(f'accuracy: {acc:.3}')\n"
   ]
  },
  {
   "cell_type": "code",
   "execution_count": 34,
   "metadata": {},
   "outputs": [
    {
     "name": "stdout",
     "output_type": "stream",
     "text": [
      "Inferring classes for 5000 phrases.\n",
      "accuracy: 0.988\n",
      "CPU times: user 301 ms, sys: 7.66 ms, total: 309 ms\n",
      "Wall time: 799 ms\n"
     ]
    }
   ],
   "source": [
    "%%time\n",
    "from sklearn.metrics import confusion_matrix\n",
    "\n",
    "test_sample = test_data.sample(5000)\n",
    "\n",
    "phrases = [review.reviewText for (index, review) in test_sample.iterrows()]\n",
    "\n",
    "print(f'Inferring classes for {len(phrases)} phrases.')\n",
    "\n",
    "payload = {\"instances\" : phrases}\n",
    "\n",
    "response = text_classifier.predict(json.dumps(payload))\n",
    "\n",
    "predictions = json.loads(response)\n",
    "\n",
    "predicted = [prediction['label'][0][9:] for prediction in predictions]\n",
    "actual = test_sample.label\n",
    "\n",
    "acc = (actual == predicted).sum()/len(predicted)\n",
    "print(f'accuracy: {acc:.3}')\n"
   ]
  },
  {
   "cell_type": "code",
   "execution_count": 35,
   "metadata": {},
   "outputs": [
    {
     "name": "stdout",
     "output_type": "stream",
     "text": [
      "Automatically created module for IPython interactive environment\n",
      "Confusion matrix, without normalization\n",
      "[[1225   13    1    2]\n",
      " [  19 1236    7    4]\n",
      " [   2    7 1207    0]\n",
      " [   0    3    0 1274]]\n",
      "Normalized confusion matrix\n",
      "[[9.87e-01 1.05e-02 8.06e-04 1.61e-03]\n",
      " [1.50e-02 9.76e-01 5.53e-03 3.16e-03]\n",
      " [1.64e-03 5.76e-03 9.93e-01 0.00e+00]\n",
      " [0.00e+00 2.35e-03 0.00e+00 9.98e-01]]\n"
     ]
    },
    {
     "data": {
      "image/png": "[encoded data removed]",
      "text/plain": [
       "<Figure size 432x288 with 2 Axes>"
      ]
     },
     "metadata": {},
     "output_type": "display_data"
    },
    {
     "data": {
      "image/png": "[encoded data removed]",
      "text/plain": [
       "<Figure size 432x288 with 2 Axes>"
      ]
     },
     "metadata": {},
     "output_type": "display_data"
    }
   ],
   "source": [
    "print(__doc__)\n",
    "\n",
    "import itertools\n",
    "import matplotlib.pyplot as plt\n",
    "\n",
    "from sklearn.metrics import confusion_matrix\n",
    "\n",
    "class_names = test_sample.label.unique()\n",
    "\n",
    "\n",
    "def plot_confusion_matrix(cm, classes,\n",
    "                          normalize=False,\n",
    "                          title='Confusion matrix',\n",
    "                          cmap=plt.cm.Blues):\n",
    "    \"\"\"\n",
    "    This function prints and plots the confusion matrix.\n",
    "    Normalization can be applied by setting `normalize=True`.\n",
    "    \"\"\"\n",
    "    if normalize:\n",
    "        cm = cm.astype('float') / cm.sum(axis=1)[:, np.newaxis]\n",
    "        print(\"Normalized confusion matrix\")\n",
    "    else:\n",
    "        print('Confusion matrix, without normalization')\n",
    "\n",
    "    print(cm)\n",
    "\n",
    "    plt.imshow(cm, interpolation='nearest', cmap=cmap)\n",
    "    plt.title(title)\n",
    "    plt.colorbar()\n",
    "    tick_marks = np.arange(len(classes))\n",
    "    plt.xticks(tick_marks, classes, rotation=45)\n",
    "    plt.yticks(tick_marks, classes)\n",
    "\n",
    "    fmt = '.2f' if normalize else 'd'\n",
    "    thresh = cm.max() / 2.\n",
    "    for i, j in itertools.product(range(cm.shape[0]), range(cm.shape[1])):\n",
    "        plt.text(j, i, format(cm[i, j], fmt),\n",
    "                 horizontalalignment=\"center\",\n",
    "                 color=\"white\" if cm[i, j] > thresh else \"black\")\n",
    "\n",
    "    plt.ylabel('True label')\n",
    "    plt.xlabel('Predicted label')\n",
    "    plt.tight_layout()\n",
    "\n",
    "\n",
    "# Compute confusion matrix\n",
    "cnf_matrix = confusion_matrix(actual, predicted)\n",
    "np.set_printoptions(precision=2)\n",
    "\n",
    "# Plot non-normalized confusion matrix\n",
    "plt.figure()\n",
    "plot_confusion_matrix(cnf_matrix, classes=class_names,\n",
    "                      title='Confusion matrix, without normalization')\n",
    "\n",
    "# Plot normalized confusion matrix\n",
    "plt.figure()\n",
    "plot_confusion_matrix(cnf_matrix, classes=class_names, normalize=True,\n",
    "                      title='Normalized confusion matrix')\n",
    "\n",
    "plt.show()"
   ]
  },
  {
   "cell_type": "code",
   "execution_count": 36,
   "metadata": {},
   "outputs": [],
   "source": [
    "# Don't forget to delete the endpoint otherwise you get billed for it"
   ]
  },
  {
   "cell_type": "code",
   "execution_count": 37,
   "metadata": {},
   "outputs": [
    {
     "name": "stderr",
     "output_type": "stream",
     "text": [
      "INFO:sagemaker:Deleting endpoint with name: blazingtext-2019-03-02-13-33-17-678\n"
     ]
    }
   ],
   "source": [
    "sess.delete_endpoint(text_classifier.endpoint)"
   ]
  }
 ],
 "metadata": {
  "kernelspec": {
   "display_name": "conda_python3",
   "language": "python",
   "name": "conda_python3"
  },
  "language_info": {
   "codemirror_mode": {
    "name": "ipython",
    "version": 3
   },
   "file_extension": ".py",
   "mimetype": "text/x-python",
   "name": "python",
   "nbconvert_exporter": "python",
   "pygments_lexer": "ipython3",
   "version": "3.6.5"
  }
 },
 "nbformat": 4,
 "nbformat_minor": 2
}
